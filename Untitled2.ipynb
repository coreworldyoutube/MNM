{
  "nbformat": 4,
  "nbformat_minor": 0,
  "metadata": {
    "colab": {
      "provenance": [],
      "authorship_tag": "ABX9TyMlJIfvAKhBLI6HF4WzETiq",
      "include_colab_link": true
    },
    "kernelspec": {
      "name": "python3",
      "display_name": "Python 3"
    },
    "language_info": {
      "name": "python"
    }
  },
  "cells": [
    {
      "cell_type": "markdown",
      "metadata": {
        "id": "view-in-github",
        "colab_type": "text"
      },
      "source": [
        "<a href=\"https://colab.research.google.com/github/coreworldyoutube/MNM/blob/main/Untitled2.ipynb\" target=\"_parent\"><img src=\"https://colab.research.google.com/assets/colab-badge.svg\" alt=\"Open In Colab\"/></a>"
      ]
    },
    {
      "cell_type": "code",
      "source": [
        "import pandas as pd\n",
        "from sklearn.model_selection import train_test_split\n",
        "from sklearn.linear_model import LinearRegression\n",
        "\n",
        "# データセット\n",
        "data = {\n",
        "    'sleep_hours': [7, 6, 5, 8, 6, 5.5, 7.5, 4.5, 6.5, 5.5],\n",
        "    'stress_level': [3, 5, 6, 2, 4, 7, 2, 8, 4, 6],\n",
        "    'meal_count': [3, 2, 2, 3, 3, 1, 3, 2, 3, 2],\n",
        "    'discomfort_score': [5, 7, 8, 3, 6, 9, 4, 9, 5, 8]\n",
        "}\n",
        "\n",
        "# データフレームを作成\n",
        "df = pd.DataFrame(data)\n",
        "\n",
        "# 特徴量とターゲットを設定\n",
        "X = df[['sleep_hours', 'stress_level', 'meal_count']]\n",
        "y_discomfort = df['discomfort_score']\n",
        "y_stress = df['stress_level']  # ストレスレベルをターゲットとして設定\n",
        "\n",
        "# データをトレーニングセットとテストセットに分割\n",
        "X_train, X_test, y_train_discomfort, y_test_discomfort = train_test_split(X, y_discomfort, test_size=0.2, random_state=42)\n",
        "X_train, X_test, y_train_stress, y_test_stress = train_test_split(X, y_stress, test_size=0.2, random_state=42)\n",
        "\n",
        "# モデルの作成\n",
        "model_discomfort = LinearRegression()\n",
        "model_discomfort.fit(X_train, y_train_discomfort)\n",
        "\n",
        "model_stress = LinearRegression()\n",
        "model_stress.fit(X_train, y_train_stress)\n",
        "\n",
        "# 今日の状態を入力\n",
        "today_data = {\n",
        "    'sleep_hours': 4,      # 今日の睡眠時間を設定\n",
        "    'stress_level': 10,     # 今日のストレスレベル（1-10のスケール）を設定\n",
        "    'meal_count': 1        # 今日の食事回数を設定\n",
        "}\n",
        "\n",
        "# 今日のデータをデータフレームに変換\n",
        "today_df = pd.DataFrame([today_data])\n",
        "\n",
        "# 不快度の予測\n",
        "today_discomfort_score = model_discomfort.predict(today_df)[0]\n",
        "print(\"今日の不快度の予測:\", today_discomfort_score)\n",
        "\n",
        "# ストレスレベルの予測\n",
        "today_stress_score = model_stress.predict(today_df)[0]\n",
        "print(\"今日のストレスレベルの予測:\", today_stress_score)\n"
      ],
      "metadata": {
        "colab": {
          "base_uri": "https://localhost:8080/"
        },
        "id": "SHggj-YtikOG",
        "outputId": "90669e35-94f1-4a9b-9cb0-b55fcd858eec"
      },
      "execution_count": 14,
      "outputs": [
        {
          "output_type": "stream",
          "name": "stdout",
          "text": [
            "今日の不快度の予測: 10.934426229508201\n",
            "今日のストレスレベルの予測: 10.0\n"
          ]
        }
      ]
    },
    {
      "cell_type": "code",
      "source": [],
      "metadata": {
        "id": "BRbaEAGwiuhl"
      },
      "execution_count": null,
      "outputs": []
    }
  ]
}